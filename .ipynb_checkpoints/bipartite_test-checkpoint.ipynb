{
 "cells": [
  {
   "cell_type": "code",
   "execution_count": null,
   "id": "844cc6a9-04cb-4df7-83e1-4b066346b6e1",
   "metadata": {},
   "outputs": [],
   "source": [
    "import matplotlib.pyplot as plt\n",
    "import networkx as nx\n",
    "import networkx.algorithms.bipartite as bipartite\n",
    "\n",
    "g = nx.Graph()\n",
    "g.add_nodes_from(['a', 'b', 'c', 'd', 'e', 'f', 'g', 'h'], bipartite=0)\n",
    "g.add_nodes_from(['1', '2', '3'], bipartite=1)\n",
    "g.add_edges_from([\n",
    "    ('1', 'a'),\n",
    "    ('1', 'b'),\n",
    "    ('1', 'c'),\n",
    "    ('2', 'b'),\n",
    "    ('2', 'e'),\n",
    "    ('2', 'f'),\n",
    "    ('2', 'h'),\n",
    "    ('3', 'e'),\n",
    "    ('3', 'f'),\n",
    "    ('3', 'g'),\n",
    "    ('3', 'h')\n",
    "])\n",
    "\n",
    "pos = nx.spring_layout(g, seed=777)\n",
    "nx.draw(g, pos, with_labels=True, alpha=0.5)\n",
    "plt.show()\n",
    "\n",
    "top_nodes = {n for n, d in g.nodes(data=True) if d[\"bipartite\"] == 0}\n",
    "bottom_nodes = {n for n, d in g.nodes(data=True) if d[\"bipartite\"] == 1}\n",
    "\n",
    "print('------------------------------------------------------------------------------------')\n",
    "p = bipartite.projected_graph(g, nodes=top_nodes)\n",
    "pos = nx.spring_layout(p, seed=777)\n",
    "nx.draw(p, pos, with_labels=True, alpha=0.5)\n",
    "plt.show()\n",
    "for e in p:\n",
    "    print(e, p.degree(e))\n",
    "\n",
    "print('------------------------------------------------------------------------------------')\n",
    "pw = bipartite.weighted_projected_graph(g, nodes=top_nodes, ratio=False)\n",
    "pos = nx.spring_layout(pw, seed=777)\n",
    "nx.draw(pw, pos, with_labels=True, alpha=0.5)\n",
    "plt.show()\n",
    "for e in pw:\n",
    "    print(e, pw.degree(e, weight='weight'))\n"
   ]
  }
 ],
 "metadata": {
  "kernelspec": {
   "display_name": "Python 3 (ipykernel)",
   "language": "python",
   "name": "python3"
  },
  "language_info": {
   "codemirror_mode": {
    "name": "ipython",
    "version": 3
   },
   "file_extension": ".py",
   "mimetype": "text/x-python",
   "name": "python",
   "nbconvert_exporter": "python",
   "pygments_lexer": "ipython3",
   "version": "3.9.12"
  }
 },
 "nbformat": 4,
 "nbformat_minor": 5
}
